{
 "cells": [
  {
   "cell_type": "code",
   "execution_count": 1,
   "metadata": {},
   "outputs": [],
   "source": [
    "import os\n",
    "import time\n",
    "import pandas as pd\n",
    "from datetime import datetime\n",
    "from selenium import webdriver\n",
    "from selenium.webdriver.common.action_chains import ActionChains\n",
    "from selenium.webdriver.chrome.options import Options\n",
    "from multiprocessing.dummy import Pool as ThreadPool\n",
    "from selenium.common.exceptions import NoSuchElementException\n",
    "import pandas as pd\n",
    "from functools import partial\n",
    "from selenium.webdriver.support.ui import WebDriverWait\n",
    "from selenium.webdriver.common.by import By    \n",
    "from selenium.webdriver.support import expected_conditions as EC"
   ]
  },
  {
   "cell_type": "code",
   "execution_count": 11,
   "metadata": {},
   "outputs": [],
   "source": [
    "def element_exits(xpath):\n",
    "    \n",
    "    try:\n",
    "        driver.find_element_by_xpath(xpath)\n",
    "\n",
    "        return True\n",
    "\n",
    "    except:\n",
    "\n",
    "        return False"
   ]
  },
  {
   "cell_type": "code",
   "execution_count": 12,
   "metadata": {},
   "outputs": [],
   "source": [
    "prof_list = pd.read_excel('Pro_list.xlsx')"
   ]
  },
  {
   "cell_type": "code",
   "execution_count": 13,
   "metadata": {},
   "outputs": [],
   "source": [
    "prof_list['GoogleScholar_Name'] = ''"
   ]
  },
  {
   "cell_type": "code",
   "execution_count": 23,
   "metadata": {},
   "outputs": [],
   "source": [
    "def find_prof_gs_name(link):\n",
    "    chrome_options = Options()\n",
    "    chrome_options.add_argument(\"--headless\") \n",
    "    chrome_options.add_argument('--no-sandbox')\n",
    "    chrome_options.add_argument('--disable-dev-shm-usage')\n",
    "    driver = webdriver.Chrome(options=chrome_options)\n",
    "    driver.maximize_window()\n",
    "    driver.get(link)\n",
    "    \n",
    "    if element_exits('//div[@id=\"gsc_prf_in\"]'):\n",
    "        name = driver.find_element_by_xpath('//div[@id=\"gsc_prf_in\"]').text\n",
    "    else:\n",
    "        name = 'None'\n",
    "    driver.quit() \n",
    "    print(name)\n",
    "    return name"
   ]
  },
  {
   "cell_type": "code",
   "execution_count": 24,
   "metadata": {},
   "outputs": [
    {
     "name": "stdout",
     "output_type": "stream",
     "text": [
      "Jagath C Rajapakse\n",
      "Bo An\n",
      "Xavier Bresson\n",
      "Wentong Cai\n",
      "Erik Cambria\n",
      "Tat-Jen Cham\n",
      "Eng-Siong Chng\n",
      "Wooi-Boon Goh\n",
      "Cuntai Guan\n",
      "Ying He\n",
      "Jagath C Rajapakse\n",
      "Owen Noel Newton Fernando\n",
      "Sinno Jialin Pan\n",
      "Qian Kemao\n",
      "Zinovi Rabinovich\n",
      "Shafiq Joty\n",
      "Jie Zhang\n",
      "Yonggang Wen\n",
      "Rui Tan\n",
      "Yew-Soon Ong\n",
      "Arnab Bhattacharyya\n",
      "Anand Bhojan\n",
      "Stephane Bressan\n",
      "Cristina Carbunaru\n",
      "Trevor E. Carlson\n",
      "Diptarka Chakraborty\n",
      "Chee Yong Chan\n",
      "Mun Choon Chan\n",
      "Ee-Chien Chang\n",
      "Tsuhan Chen\n",
      "Ho Lun Cheng\n",
      "Wei Ngan Chin\n",
      "Tat-Seng Chua\n",
      "Ashish Dandekar\n",
      "Jin Song Dong\n",
      "Seth Gilbert\n",
      "Jun Han\n",
      "David Hsu\n",
      "Wynne HSU\n",
      "Sanjay Jain\n",
      "Mohan Kankanhalli\n",
      "Hwee Tou Ng\n",
      "Beng Chin OOI\n",
      "Reza Shokri\n",
      "Prof Armin ABERLE\n",
      "Massimo Alioto\n",
      "Antonio H. Castro Neto\n",
      "Ben M. Chen\n",
      "Tsuhan Chen\n",
      "Xudong Chen\n",
      "Zhi Ning Chen\n",
      "WK Chim\n",
      "Mandar Chitre\n",
      "Eng Fong Chor\n",
      "Dingjuan Chua\n",
      "Chua Kee Chaing\n",
      "Aaron Danner\n",
      "Jiashi Feng\n",
      "Xiao Gong\n",
      "Xuanyao Fong\n",
      "Yongxin Guo\n",
      "HANG Chang Chieh\n",
      "\"Chun-Huat Heng\"\n",
      "MH Hong\n",
      "Chengkuo Lee\n",
      "Haizhou Li\n",
      "T. H. Lee\n",
      "K.S. Low\n",
      "Woon-Seng Gan\n",
      "Yong Liang Guan\n",
      "Hilmi Volkan Demir\n",
      "Guang-Bin Huang\n",
      "Josep Pou\n",
      "Alex Kot\n",
      "Ai Qun Liu\n",
      "Yilong Lu\n",
      "Kai-Kuang Ma\n",
      "Geok Ing Ng\n",
      "Nikolay I. Zheludev\n",
      "Zhongxiang Shen\n",
      "Yap-Peng TAN\n",
      "Chuan Seng Tan\n",
      "Xiaohong Tang\n",
      "Beng Kang Tay\n",
      "Danwei Wang\n",
      "Peng Wang\n",
      "Qi Jie Wang\n",
      "Changyun Wen\n",
      "Lihua Xie\n"
     ]
    }
   ],
   "source": [
    "prof_list['GoogleScholar_Name'] = prof_list['Website for google scholar'].apply(lambda x : find_prof_gs_name(x))"
   ]
  },
  {
   "cell_type": "code",
   "execution_count": 25,
   "metadata": {},
   "outputs": [
    {
     "data": {
      "text/plain": [
       "0     Jagath C Rajapakse\n",
       "1                  Bo An\n",
       "2         Xavier Bresson\n",
       "3            Wentong Cai\n",
       "4           Erik Cambria\n",
       "             ...        \n",
       "84           Danwei Wang\n",
       "85             Peng Wang\n",
       "86           Qi Jie Wang\n",
       "87          Changyun Wen\n",
       "88             Lihua Xie\n",
       "Name: GoogleScholar_Name, Length: 89, dtype: object"
      ]
     },
     "execution_count": 25,
     "metadata": {},
     "output_type": "execute_result"
    }
   ],
   "source": [
    "prof_list['GoogleScholar_Name']"
   ]
  },
  {
   "cell_type": "code",
   "execution_count": 27,
   "metadata": {},
   "outputs": [],
   "source": [
    "prof_list.to_csv('Pro_list.xlsx',index=False,header=True)"
   ]
  },
  {
   "cell_type": "code",
   "execution_count": null,
   "metadata": {},
   "outputs": [],
   "source": []
  }
 ],
 "metadata": {
  "kernelspec": {
   "display_name": "Python 3.7.3 64-bit",
   "language": "python",
   "name": "python37364bit2966042795024b85b7b28500c375cc23"
  },
  "language_info": {
   "codemirror_mode": {
    "name": "ipython",
    "version": 3
   },
   "file_extension": ".py",
   "mimetype": "text/x-python",
   "name": "python",
   "nbconvert_exporter": "python",
   "pygments_lexer": "ipython3",
   "version": "3.7.3"
  }
 },
 "nbformat": 4,
 "nbformat_minor": 4
}
