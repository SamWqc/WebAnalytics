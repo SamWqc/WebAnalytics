{
 "cells": [
  {
   "cell_type": "code",
   "execution_count": 1,
   "metadata": {},
   "outputs": [],
   "source": [
    "import pandas as pd\n",
    "from difflib import SequenceMatcher\n",
    "import numpy as np"
   ]
  },
  {
   "cell_type": "code",
   "execution_count": 40,
   "metadata": {},
   "outputs": [],
   "source": [
    "prof_info = pd.read_csv('prof_info.csv',header=None)\n",
    "prof_info = prof_info[prof_info[0]!=prof_info[3]]\n",
    "prof_list = pd.read_csv('Pro_list.xlsx')\n",
    "prof_info.columns = ['Name','Web','Paper','Author','Citation','Year','Discription']"
   ]
  },
  {
   "cell_type": "code",
   "execution_count": 41,
   "metadata": {},
   "outputs": [],
   "source": [
    "prof_info = prof_info.merge(prof_list[['University','College','Name','GoogleScholar_Name']],how= 'left', left_on='Name',right_on='Name')"
   ]
  },
  {
   "cell_type": "code",
   "execution_count": 42,
   "metadata": {},
   "outputs": [],
   "source": [
    "def rename_(x,y):\n",
    "    if not x:\n",
    "        return y\n",
    "    return x"
   ]
  },
  {
   "cell_type": "code",
   "execution_count": 43,
   "metadata": {},
   "outputs": [],
   "source": [
    "prof_info['GoogleScholar_Name'] = prof_info.apply(lambda x: rename_(x['GoogleScholar_Name'],x['Name']), axis=1)"
   ]
  },
  {
   "cell_type": "code",
   "execution_count": 44,
   "metadata": {},
   "outputs": [],
   "source": [
    "#delete name from university\n",
    "prof_info.drop('Name',axis = 1,inplace=True)"
   ]
  },
  {
   "cell_type": "code",
   "execution_count": 45,
   "metadata": {},
   "outputs": [
    {
     "data": {
      "text/html": [
       "<div>\n",
       "<style scoped>\n",
       "    .dataframe tbody tr th:only-of-type {\n",
       "        vertical-align: middle;\n",
       "    }\n",
       "\n",
       "    .dataframe tbody tr th {\n",
       "        vertical-align: top;\n",
       "    }\n",
       "\n",
       "    .dataframe thead th {\n",
       "        text-align: right;\n",
       "    }\n",
       "</style>\n",
       "<table border=\"1\" class=\"dataframe\">\n",
       "  <thead>\n",
       "    <tr style=\"text-align: right;\">\n",
       "      <th></th>\n",
       "      <th>Web</th>\n",
       "      <th>Paper</th>\n",
       "      <th>Author</th>\n",
       "      <th>Citation</th>\n",
       "      <th>Year</th>\n",
       "      <th>Discription</th>\n",
       "      <th>University</th>\n",
       "      <th>College</th>\n",
       "      <th>GoogleScholar_Name</th>\n",
       "    </tr>\n",
       "  </thead>\n",
       "  <tbody>\n",
       "    <tr>\n",
       "      <td>0</td>\n",
       "      <td>https://scholar.google.com/citations?hl=en&amp;use...</td>\n",
       "      <td>Quantitative brain magnetic resonance imaging ...</td>\n",
       "      <td>F Xavier Castellanos, Jay N Giedd, Wendy L Mar...</td>\n",
       "      <td>1625.0</td>\n",
       "      <td>1996.0</td>\n",
       "      <td>Background:\\nAnatomic magnetic resonance imagi...</td>\n",
       "      <td>NTU</td>\n",
       "      <td>CS</td>\n",
       "      <td>Jagath C Rajapakse</td>\n",
       "    </tr>\n",
       "    <tr>\n",
       "      <td>1</td>\n",
       "      <td>https://scholar.google.com/citations?hl=en&amp;use...</td>\n",
       "      <td>Quantitative magnetic resonance imaging of hum...</td>\n",
       "      <td>Jay N Giedd, John W Snell, Nicholas Lange, Jag...</td>\n",
       "      <td>1226.0</td>\n",
       "      <td>1996.0</td>\n",
       "      <td>Brain magnetic resonance images (MRI) of 104 h...</td>\n",
       "      <td>NTU</td>\n",
       "      <td>CS</td>\n",
       "      <td>Jagath C Rajapakse</td>\n",
       "    </tr>\n",
       "    <tr>\n",
       "      <td>2</td>\n",
       "      <td>https://scholar.google.com/citations?hl=en&amp;use...</td>\n",
       "      <td>Quantitative MRI of the temporal lobe, amygdal...</td>\n",
       "      <td>Jay N Giedd, A Catherine Vaituzis, Susan D Ham...</td>\n",
       "      <td>817.0</td>\n",
       "      <td>1996.0</td>\n",
       "      <td>The volume of the temporal lobe, superior temp...</td>\n",
       "      <td>NTU</td>\n",
       "      <td>CS</td>\n",
       "      <td>Jagath C Rajapakse</td>\n",
       "    </tr>\n",
       "    <tr>\n",
       "      <td>3</td>\n",
       "      <td>https://scholar.google.com/citations?hl=en&amp;use...</td>\n",
       "      <td>Statistical approach to segmentation of single...</td>\n",
       "      <td>Jagath C Rajapakse, Jay N Giedd, Judith L Rapo...</td>\n",
       "      <td>699.0</td>\n",
       "      <td>1997.0</td>\n",
       "      <td>A statistical model is presented that represen...</td>\n",
       "      <td>NTU</td>\n",
       "      <td>CS</td>\n",
       "      <td>Jagath C Rajapakse</td>\n",
       "    </tr>\n",
       "    <tr>\n",
       "      <td>4</td>\n",
       "      <td>https://scholar.google.com/citations?hl=en&amp;use...</td>\n",
       "      <td>Sexual dimorphism of the developing human brain</td>\n",
       "      <td>Jay N Giedd, F Xavier Castellanos, Jagath C Ra...</td>\n",
       "      <td>549.0</td>\n",
       "      <td>1997.0</td>\n",
       "      <td>1.\\n1. Sexual dimorphism of human brain anatom...</td>\n",
       "      <td>NTU</td>\n",
       "      <td>CS</td>\n",
       "      <td>Jagath C Rajapakse</td>\n",
       "    </tr>\n",
       "  </tbody>\n",
       "</table>\n",
       "</div>"
      ],
      "text/plain": [
       "                                                 Web  \\\n",
       "0  https://scholar.google.com/citations?hl=en&use...   \n",
       "1  https://scholar.google.com/citations?hl=en&use...   \n",
       "2  https://scholar.google.com/citations?hl=en&use...   \n",
       "3  https://scholar.google.com/citations?hl=en&use...   \n",
       "4  https://scholar.google.com/citations?hl=en&use...   \n",
       "\n",
       "                                               Paper  \\\n",
       "0  Quantitative brain magnetic resonance imaging ...   \n",
       "1  Quantitative magnetic resonance imaging of hum...   \n",
       "2  Quantitative MRI of the temporal lobe, amygdal...   \n",
       "3  Statistical approach to segmentation of single...   \n",
       "4    Sexual dimorphism of the developing human brain   \n",
       "\n",
       "                                              Author  Citation    Year  \\\n",
       "0  F Xavier Castellanos, Jay N Giedd, Wendy L Mar...    1625.0  1996.0   \n",
       "1  Jay N Giedd, John W Snell, Nicholas Lange, Jag...    1226.0  1996.0   \n",
       "2  Jay N Giedd, A Catherine Vaituzis, Susan D Ham...     817.0  1996.0   \n",
       "3  Jagath C Rajapakse, Jay N Giedd, Judith L Rapo...     699.0  1997.0   \n",
       "4  Jay N Giedd, F Xavier Castellanos, Jagath C Ra...     549.0  1997.0   \n",
       "\n",
       "                                         Discription University College  \\\n",
       "0  Background:\\nAnatomic magnetic resonance imagi...        NTU      CS   \n",
       "1  Brain magnetic resonance images (MRI) of 104 h...        NTU      CS   \n",
       "2  The volume of the temporal lobe, superior temp...        NTU      CS   \n",
       "3  A statistical model is presented that represen...        NTU      CS   \n",
       "4  1.\\n1. Sexual dimorphism of human brain anatom...        NTU      CS   \n",
       "\n",
       "   GoogleScholar_Name  \n",
       "0  Jagath C Rajapakse  \n",
       "1  Jagath C Rajapakse  \n",
       "2  Jagath C Rajapakse  \n",
       "3  Jagath C Rajapakse  \n",
       "4  Jagath C Rajapakse  "
      ]
     },
     "execution_count": 45,
     "metadata": {},
     "output_type": "execute_result"
    }
   ],
   "source": [
    "prof_info.head()"
   ]
  },
  {
   "cell_type": "code",
   "execution_count": 46,
   "metadata": {},
   "outputs": [],
   "source": [
    "#split name\n",
    "prof_info['split_name']=prof_info.Author.apply(lambda x : str(x).split(', '))"
   ]
  },
  {
   "cell_type": "code",
   "execution_count": 47,
   "metadata": {},
   "outputs": [],
   "source": [
    "#similarity function\n",
    "def similarity(a, b):\n",
    "    return SequenceMatcher(None, a, b).ratio()#引用ratio方法，返回序列相似性的度量\n"
   ]
  },
  {
   "cell_type": "code",
   "execution_count": 48,
   "metadata": {},
   "outputs": [],
   "source": [
    "#find the most similar name\n",
    "prof_info['name_in_coauthor']=prof_info.apply(lambda x : np.argmax([ \n",
    "similarity(x['GoogleScholar_Name'],i) for i in x['split_name']\n",
    "])\n",
    ",axis =1)"
   ]
  },
  {
   "cell_type": "code",
   "execution_count": 49,
   "metadata": {},
   "outputs": [],
   "source": [
    "def replace_name(orig_name,name_list,ind):\n",
    "    name_list[ind] = orig_name\n",
    "    return name_list"
   ]
  },
  {
   "cell_type": "code",
   "execution_count": 50,
   "metadata": {},
   "outputs": [],
   "source": [
    "prof_info['split_name']=prof_info.apply(lambda x : replace_name(x['GoogleScholar_Name'],x['split_name'],x['name_in_coauthor']),axis=1)"
   ]
  },
  {
   "cell_type": "code",
   "execution_count": 51,
   "metadata": {},
   "outputs": [],
   "source": [
    "author_name_list = []"
   ]
  },
  {
   "cell_type": "code",
   "execution_count": 52,
   "metadata": {},
   "outputs": [],
   "source": [
    "for each in prof_info['split_name'].to_list():\n",
    "    author_name_list.extend(each)"
   ]
  },
  {
   "cell_type": "code",
   "execution_count": 53,
   "metadata": {},
   "outputs": [],
   "source": [
    "author_name_list = set(author_name_list)"
   ]
  },
  {
   "cell_type": "code",
   "execution_count": 54,
   "metadata": {},
   "outputs": [],
   "source": [
    "num_to_name=dict(zip(list(range(0,len(author_name_list))),author_name_list))"
   ]
  },
  {
   "cell_type": "code",
   "execution_count": 55,
   "metadata": {},
   "outputs": [],
   "source": [
    "name_to_num = dict(zip(author_name_list,list(range(0,len(author_name_list)))))"
   ]
  },
  {
   "cell_type": "code",
   "execution_count": 56,
   "metadata": {},
   "outputs": [],
   "source": [
    "prof_info['author_num'] = prof_info['GoogleScholar_Name'].apply(lambda x : name_to_num[x])\n",
    "prof_info['author_num_list'] = prof_info['split_name'].apply(lambda x : [name_to_num[i] for i in x])"
   ]
  },
  {
   "cell_type": "code",
   "execution_count": 84,
   "metadata": {},
   "outputs": [],
   "source": [
    "#edges\n",
    "all_node1,all_node2 = [],[]"
   ]
  },
  {
   "cell_type": "code",
   "execution_count": 85,
   "metadata": {},
   "outputs": [],
   "source": [
    "num_list = []\n",
    "for each in prof_info['author_num_list'].to_list():\n",
    "    num_list.extend(each)"
   ]
  },
  {
   "cell_type": "code",
   "execution_count": 86,
   "metadata": {},
   "outputs": [],
   "source": [
    "num_list = pd.Series(num_list)"
   ]
  },
  {
   "cell_type": "code",
   "execution_count": 87,
   "metadata": {},
   "outputs": [],
   "source": [
    "num_st1=num_list.value_counts().index[num_list.value_counts()<=3]\n",
    "num_st1 = list(num_st1)"
   ]
  },
  {
   "cell_type": "code",
   "execution_count": 88,
   "metadata": {},
   "outputs": [],
   "source": [
    "for each_author_list in prof_info['author_num_list']:\n",
    "    for each_node1 in each_author_list:\n",
    "        for each_node2 in each_author_list:\n",
    "            if each_node1 != each_node2 and each_node1 not in num_st1 and each_node2 not in num_st1:\n",
    "                all_node1.append(each_node1)\n",
    "                all_node2.append(each_node2)\n",
    "        "
   ]
  },
  {
   "cell_type": "code",
   "execution_count": 89,
   "metadata": {},
   "outputs": [],
   "source": [
    "train = pd.DataFrame({\n",
    "    'id_1':all_node1, 'id_2':all_node2\n",
    "})"
   ]
  },
  {
   "cell_type": "code",
   "execution_count": 90,
   "metadata": {},
   "outputs": [],
   "source": [
    "train.drop_duplicates(inplace = True)"
   ]
  },
  {
   "cell_type": "code",
   "execution_count": 91,
   "metadata": {},
   "outputs": [],
   "source": [
    "train.to_csv('./EdMot/input/cora_edges.csv',index=False,header=True)"
   ]
  },
  {
   "cell_type": "code",
   "execution_count": 92,
   "metadata": {},
   "outputs": [],
   "source": [
    "prof_info.to_csv('converted.csv',index = False, header= True)"
   ]
  },
  {
   "cell_type": "code",
   "execution_count": 93,
   "metadata": {},
   "outputs": [],
   "source": [
    "import json\n",
    "json_str = json.dumps(num_to_name)"
   ]
  },
  {
   "cell_type": "code",
   "execution_count": 94,
   "metadata": {},
   "outputs": [],
   "source": [
    "data = json.loads(json_str)\n",
    "with open('num_to_name.json', 'w') as f:\n",
    "    json.dump(data, f)"
   ]
  },
  {
   "cell_type": "code",
   "execution_count": 95,
   "metadata": {},
   "outputs": [],
   "source": [
    "data = json.loads(json.dumps(name_to_num))\n",
    "with open('name_to_num.json', 'w') as f:\n",
    "    json.dump(data, f)"
   ]
  },
  {
   "cell_type": "code",
   "execution_count": null,
   "metadata": {},
   "outputs": [],
   "source": []
  },
  {
   "cell_type": "code",
   "execution_count": null,
   "metadata": {},
   "outputs": [],
   "source": []
  }
 ],
 "metadata": {
  "kernelspec": {
   "display_name": "Python 3.7.3 64-bit",
   "language": "python",
   "name": "python37364bit2966042795024b85b7b28500c375cc23"
  },
  "language_info": {
   "codemirror_mode": {
    "name": "ipython",
    "version": 3
   },
   "file_extension": ".py",
   "mimetype": "text/x-python",
   "name": "python",
   "nbconvert_exporter": "python",
   "pygments_lexer": "ipython3",
   "version": "3.7.3"
  }
 },
 "nbformat": 4,
 "nbformat_minor": 4
}
